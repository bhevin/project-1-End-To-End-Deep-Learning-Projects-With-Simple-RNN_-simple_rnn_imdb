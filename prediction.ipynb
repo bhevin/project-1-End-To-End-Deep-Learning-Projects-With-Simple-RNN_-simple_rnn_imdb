{
 "cells": [
  {
   "cell_type": "code",
   "execution_count": 1,
   "metadata": {},
   "outputs": [],
   "source": [
    "# Step 1: Import Libraries and Load the Model\n",
    "\n",
    "import os\n",
    "import numpy as np\n",
    "import tensorflow as tf\n",
    "from tensorflow import keras\n",
    "\n",
    "from tensorflow.keras.datasets import imdb\n",
    "from tensorflow.keras.preprocessing import sequence\n",
    "from tensorflow.keras.models import load_model"
   ]
  },
  {
   "cell_type": "code",
   "execution_count": 2,
   "metadata": {},
   "outputs": [],
   "source": [
    "# Load the IMDB dataset word \n",
    "# Load the IMDB dataset word index1\n",
    "word_index = imdb.get_word_index()\n",
    "reverse_word_index = {value: key for key, value in word_index.items()}"
   ]
  },
  {
   "cell_type": "code",
   "execution_count": 3,
   "metadata": {},
   "outputs": [
    {
     "name": "stderr",
     "output_type": "stream",
     "text": [
      "WARNING:absl:Compiled the loaded model, but the compiled metrics have yet to be built. `model.compile_metrics` will be empty until you train or evaluate the model.\n"
     ]
    },
    {
     "data": {
      "text/html": [
       "<pre style=\"white-space:pre;overflow-x:auto;line-height:normal;font-family:Menlo,'DejaVu Sans Mono',consolas,'Courier New',monospace\"><span style=\"font-weight: bold\">Model: \"sequential\"</span>\n",
       "</pre>\n"
      ],
      "text/plain": [
       "\u001b[1mModel: \"sequential\"\u001b[0m\n"
      ]
     },
     "metadata": {},
     "output_type": "display_data"
    },
    {
     "data": {
      "text/html": [
       "<pre style=\"white-space:pre;overflow-x:auto;line-height:normal;font-family:Menlo,'DejaVu Sans Mono',consolas,'Courier New',monospace\">┏━━━━━━━━━━━━━━━━━━━━━━━━━━━━━━━━━┳━━━━━━━━━━━━━━━━━━━━━━━━┳━━━━━━━━━━━━━━━┓\n",
       "┃<span style=\"font-weight: bold\"> Layer (type)                    </span>┃<span style=\"font-weight: bold\"> Output Shape           </span>┃<span style=\"font-weight: bold\">       Param # </span>┃\n",
       "┡━━━━━━━━━━━━━━━━━━━━━━━━━━━━━━━━━╇━━━━━━━━━━━━━━━━━━━━━━━━╇━━━━━━━━━━━━━━━┩\n",
       "│ embedding (<span style=\"color: #0087ff; text-decoration-color: #0087ff\">Embedding</span>)           │ (<span style=\"color: #00af00; text-decoration-color: #00af00\">32</span>, <span style=\"color: #00af00; text-decoration-color: #00af00\">500</span>, <span style=\"color: #00af00; text-decoration-color: #00af00\">128</span>)         │     <span style=\"color: #00af00; text-decoration-color: #00af00\">1,280,000</span> │\n",
       "├─────────────────────────────────┼────────────────────────┼───────────────┤\n",
       "│ simple_rnn (<span style=\"color: #0087ff; text-decoration-color: #0087ff\">SimpleRNN</span>)          │ (<span style=\"color: #00af00; text-decoration-color: #00af00\">32</span>, <span style=\"color: #00af00; text-decoration-color: #00af00\">128</span>)              │        <span style=\"color: #00af00; text-decoration-color: #00af00\">32,896</span> │\n",
       "├─────────────────────────────────┼────────────────────────┼───────────────┤\n",
       "│ dense (<span style=\"color: #0087ff; text-decoration-color: #0087ff\">Dense</span>)                   │ (<span style=\"color: #00af00; text-decoration-color: #00af00\">32</span>, <span style=\"color: #00af00; text-decoration-color: #00af00\">1</span>)                │           <span style=\"color: #00af00; text-decoration-color: #00af00\">129</span> │\n",
       "└─────────────────────────────────┴────────────────────────┴───────────────┘\n",
       "</pre>\n"
      ],
      "text/plain": [
       "┏━━━━━━━━━━━━━━━━━━━━━━━━━━━━━━━━━┳━━━━━━━━━━━━━━━━━━━━━━━━┳━━━━━━━━━━━━━━━┓\n",
       "┃\u001b[1m \u001b[0m\u001b[1mLayer (type)                   \u001b[0m\u001b[1m \u001b[0m┃\u001b[1m \u001b[0m\u001b[1mOutput Shape          \u001b[0m\u001b[1m \u001b[0m┃\u001b[1m \u001b[0m\u001b[1m      Param #\u001b[0m\u001b[1m \u001b[0m┃\n",
       "┡━━━━━━━━━━━━━━━━━━━━━━━━━━━━━━━━━╇━━━━━━━━━━━━━━━━━━━━━━━━╇━━━━━━━━━━━━━━━┩\n",
       "│ embedding (\u001b[38;5;33mEmbedding\u001b[0m)           │ (\u001b[38;5;34m32\u001b[0m, \u001b[38;5;34m500\u001b[0m, \u001b[38;5;34m128\u001b[0m)         │     \u001b[38;5;34m1,280,000\u001b[0m │\n",
       "├─────────────────────────────────┼────────────────────────┼───────────────┤\n",
       "│ simple_rnn (\u001b[38;5;33mSimpleRNN\u001b[0m)          │ (\u001b[38;5;34m32\u001b[0m, \u001b[38;5;34m128\u001b[0m)              │        \u001b[38;5;34m32,896\u001b[0m │\n",
       "├─────────────────────────────────┼────────────────────────┼───────────────┤\n",
       "│ dense (\u001b[38;5;33mDense\u001b[0m)                   │ (\u001b[38;5;34m32\u001b[0m, \u001b[38;5;34m1\u001b[0m)                │           \u001b[38;5;34m129\u001b[0m │\n",
       "└─────────────────────────────────┴────────────────────────┴───────────────┘\n"
      ]
     },
     "metadata": {},
     "output_type": "display_data"
    },
    {
     "data": {
      "text/html": [
       "<pre style=\"white-space:pre;overflow-x:auto;line-height:normal;font-family:Menlo,'DejaVu Sans Mono',consolas,'Courier New',monospace\"><span style=\"font-weight: bold\"> Total params: </span><span style=\"color: #00af00; text-decoration-color: #00af00\">1,313,027</span> (5.01 MB)\n",
       "</pre>\n"
      ],
      "text/plain": [
       "\u001b[1m Total params: \u001b[0m\u001b[38;5;34m1,313,027\u001b[0m (5.01 MB)\n"
      ]
     },
     "metadata": {},
     "output_type": "display_data"
    },
    {
     "data": {
      "text/html": [
       "<pre style=\"white-space:pre;overflow-x:auto;line-height:normal;font-family:Menlo,'DejaVu Sans Mono',consolas,'Courier New',monospace\"><span style=\"font-weight: bold\"> Trainable params: </span><span style=\"color: #00af00; text-decoration-color: #00af00\">1,313,025</span> (5.01 MB)\n",
       "</pre>\n"
      ],
      "text/plain": [
       "\u001b[1m Trainable params: \u001b[0m\u001b[38;5;34m1,313,025\u001b[0m (5.01 MB)\n"
      ]
     },
     "metadata": {},
     "output_type": "display_data"
    },
    {
     "data": {
      "text/html": [
       "<pre style=\"white-space:pre;overflow-x:auto;line-height:normal;font-family:Menlo,'DejaVu Sans Mono',consolas,'Courier New',monospace\"><span style=\"font-weight: bold\"> Non-trainable params: </span><span style=\"color: #00af00; text-decoration-color: #00af00\">0</span> (0.00 B)\n",
       "</pre>\n"
      ],
      "text/plain": [
       "\u001b[1m Non-trainable params: \u001b[0m\u001b[38;5;34m0\u001b[0m (0.00 B)\n"
      ]
     },
     "metadata": {},
     "output_type": "display_data"
    },
    {
     "data": {
      "text/html": [
       "<pre style=\"white-space:pre;overflow-x:auto;line-height:normal;font-family:Menlo,'DejaVu Sans Mono',consolas,'Courier New',monospace\"><span style=\"font-weight: bold\"> Optimizer params: </span><span style=\"color: #00af00; text-decoration-color: #00af00\">2</span> (12.00 B)\n",
       "</pre>\n"
      ],
      "text/plain": [
       "\u001b[1m Optimizer params: \u001b[0m\u001b[38;5;34m2\u001b[0m (12.00 B)\n"
      ]
     },
     "metadata": {},
     "output_type": "display_data"
    }
   ],
   "source": [
    "# Load the pre-trained model with ReLU activation\n",
    "model = tf.keras.models.load_model('sample_rnn_model_imdb_bhevin.h5')\n",
    "model.summary()"
   ]
  },
  {
   "cell_type": "code",
   "execution_count": 4,
   "metadata": {},
   "outputs": [
    {
     "data": {
      "text/plain": [
       "[array([[-0.14317815, -0.1896498 , -0.43229014, ...,  0.6548656 ,\n",
       "          0.4483962 ,  0.06831226],\n",
       "        [ 0.04134663, -0.02117645,  0.00257391, ...,  0.10162894,\n",
       "          0.08970374, -0.01993725],\n",
       "        [ 0.17771195, -0.05118666,  0.03417369, ...,  0.05116084,\n",
       "          0.07889473, -0.11468211],\n",
       "        ...,\n",
       "        [-0.12007874,  0.11985479, -0.13139477, ...,  0.03241014,\n",
       "         -0.07524852,  0.08006608],\n",
       "        [ 0.0263058 , -0.01996551,  0.04414477, ..., -0.02711686,\n",
       "         -0.01907487,  0.01749126],\n",
       "        [ 0.01021541,  0.01763617, -0.09308051, ..., -0.04042296,\n",
       "         -0.12249815,  0.01944971]], dtype=float32),\n",
       " array([[-0.12674862, -0.13567267, -0.10608022, ..., -0.1360574 ,\n",
       "          0.10090008, -0.02503038],\n",
       "        [ 0.18463758, -0.00025579,  0.15936346, ...,  0.04122342,\n",
       "         -0.08692998, -0.04329784],\n",
       "        [ 0.14282872, -0.03106161, -0.04025866, ...,  0.11125122,\n",
       "         -0.04840593,  0.14879207],\n",
       "        ...,\n",
       "        [-0.06708013, -0.1772831 , -0.16057219, ...,  0.0423772 ,\n",
       "         -0.10055257, -0.06748971],\n",
       "        [ 0.1105796 , -0.01654126, -0.0781213 , ..., -0.06073671,\n",
       "          0.14988041,  0.01146972],\n",
       "        [-0.07359663, -0.10256091,  0.06441402, ...,  0.10991568,\n",
       "         -0.06970976,  0.03562019]], dtype=float32),\n",
       " array([[-0.20790882, -0.07997284, -0.08121284, ..., -0.04953538,\n",
       "          0.09938754, -0.11755869],\n",
       "        [-0.04859758, -0.08746916, -0.00735878, ..., -0.05906235,\n",
       "          0.02860183, -0.18161279],\n",
       "        [-0.11434721,  0.1900397 , -0.06327814, ...,  0.21194632,\n",
       "         -0.02083059, -0.13425912],\n",
       "        ...,\n",
       "        [ 0.0281839 ,  0.03475517, -0.04256384, ...,  0.01344338,\n",
       "         -0.13600802, -0.0417361 ],\n",
       "        [-0.03812383,  0.00348054, -0.01035   , ..., -0.00206758,\n",
       "          0.03233197,  0.10779846],\n",
       "        [ 0.02573118, -0.03514248, -0.02518913, ..., -0.2078287 ,\n",
       "         -0.09972816, -0.10193325]], dtype=float32),\n",
       " array([-0.02019439, -0.01597039, -0.04456577, -0.01608794,  0.05231845,\n",
       "        -0.03203555,  0.03262294,  0.03625879, -0.03859744,  0.02800588,\n",
       "        -0.01374191,  0.00197581, -0.05227835, -0.00485386,  0.07919551,\n",
       "         0.01641481, -0.00966583,  0.03910208,  0.04284406,  0.00141676,\n",
       "        -0.00571759, -0.05337567, -0.04558443, -0.04161684,  0.04671107,\n",
       "        -0.0099039 , -0.04895888, -0.05025312,  0.03379481,  0.06065228,\n",
       "         0.0129702 ,  0.03633494,  0.01457107,  0.01076867, -0.01713827,\n",
       "        -0.00052795,  0.02705445,  0.01959654, -0.06257457, -0.04003045,\n",
       "         0.00871201, -0.02198074, -0.03759241, -0.03780798, -0.04073926,\n",
       "         0.07710116, -0.03722243,  0.01001389, -0.04799009, -0.03719291,\n",
       "         0.00066812,  0.03789629, -0.04270273, -0.05100338, -0.05580385,\n",
       "         0.02454481,  0.00729356, -0.01695981, -0.0416427 , -0.00235977,\n",
       "         0.03258582, -0.06280272,  0.02398402, -0.0283637 , -0.00016095,\n",
       "         0.00612108,  0.01916498,  0.03723041,  0.02829457,  0.01291635,\n",
       "         0.02358007,  0.00133081, -0.0349432 ,  0.02853276, -0.04413393,\n",
       "        -0.01813984,  0.0049924 ,  0.01396764, -0.03219642,  0.02539265,\n",
       "         0.02336032,  0.01479984, -0.04241534, -0.06109067, -0.02646835,\n",
       "        -0.00113555, -0.03776668, -0.03758997, -0.0128398 , -0.03965654,\n",
       "        -0.03907274,  0.03337355, -0.01731739, -0.01813149, -0.01016531,\n",
       "         0.03019448,  0.07209371, -0.00917984, -0.07052528,  0.04164637,\n",
       "        -0.01999327, -0.01977523, -0.04509535,  0.02097156, -0.02285147,\n",
       "        -0.02255511, -0.00457156,  0.0389079 , -0.06140092,  0.02916419,\n",
       "        -0.04521417,  0.05154643, -0.04973464, -0.00764157, -0.05018617,\n",
       "        -0.02234603, -0.03328988, -0.07021711, -0.03953929,  0.01808562,\n",
       "        -0.04890563, -0.00750279,  0.07074329, -0.01404778, -0.05004816,\n",
       "        -0.04656277, -0.02502992, -0.05960803], dtype=float32),\n",
       " array([[-1.87333614e-01],\n",
       "        [ 1.05876267e-01],\n",
       "        [ 1.34473115e-01],\n",
       "        [ 5.66157363e-02],\n",
       "        [ 1.11026093e-01],\n",
       "        [ 1.89932995e-02],\n",
       "        [-1.26942664e-01],\n",
       "        [-4.42359298e-02],\n",
       "        [-1.85624629e-01],\n",
       "        [ 7.85545707e-02],\n",
       "        [ 2.10285857e-01],\n",
       "        [-1.68875530e-01],\n",
       "        [-1.78274736e-01],\n",
       "        [ 3.10132597e-02],\n",
       "        [-4.12601754e-02],\n",
       "        [ 1.18667763e-02],\n",
       "        [-2.21589550e-01],\n",
       "        [-1.35134235e-01],\n",
       "        [ 1.31743699e-02],\n",
       "        [ 1.59987569e-01],\n",
       "        [-1.89105491e-03],\n",
       "        [ 1.37195334e-01],\n",
       "        [ 2.17434596e-02],\n",
       "        [-2.37723470e-01],\n",
       "        [-2.89873295e-02],\n",
       "        [ 1.83883399e-01],\n",
       "        [ 2.27565132e-02],\n",
       "        [ 1.51737571e-01],\n",
       "        [ 4.38700356e-02],\n",
       "        [-9.70343053e-02],\n",
       "        [ 2.88310319e-01],\n",
       "        [-1.42880350e-01],\n",
       "        [-9.84473377e-02],\n",
       "        [-4.50256877e-02],\n",
       "        [ 7.44044632e-02],\n",
       "        [-1.10786118e-01],\n",
       "        [-2.08365843e-01],\n",
       "        [ 1.55107528e-01],\n",
       "        [ 3.73155661e-02],\n",
       "        [-3.97153981e-02],\n",
       "        [-1.08230434e-01],\n",
       "        [-1.05964445e-01],\n",
       "        [ 4.61588278e-02],\n",
       "        [ 2.78400451e-01],\n",
       "        [ 5.44685451e-03],\n",
       "        [ 3.84165764e-01],\n",
       "        [-8.73487070e-02],\n",
       "        [-1.61958247e-01],\n",
       "        [-2.76484806e-02],\n",
       "        [-4.11275327e-01],\n",
       "        [ 1.87151805e-01],\n",
       "        [ 7.96413124e-02],\n",
       "        [ 1.15070060e-01],\n",
       "        [ 6.83652014e-02],\n",
       "        [-3.73818539e-02],\n",
       "        [ 1.43139705e-01],\n",
       "        [-2.79412895e-01],\n",
       "        [-3.31634939e-01],\n",
       "        [-4.95231189e-02],\n",
       "        [-1.19747035e-01],\n",
       "        [-8.26804787e-02],\n",
       "        [-4.22950163e-02],\n",
       "        [-6.23868518e-02],\n",
       "        [-8.49359557e-02],\n",
       "        [-3.73368561e-02],\n",
       "        [-1.61118284e-01],\n",
       "        [-4.52562720e-02],\n",
       "        [-3.48871090e-02],\n",
       "        [ 1.89996973e-01],\n",
       "        [ 9.74885076e-02],\n",
       "        [ 1.55488709e-02],\n",
       "        [-3.43191385e-01],\n",
       "        [ 1.16667025e-01],\n",
       "        [-1.40929535e-01],\n",
       "        [ 2.10853800e-01],\n",
       "        [-3.12506169e-01],\n",
       "        [-4.35452089e-02],\n",
       "        [-1.21337235e-01],\n",
       "        [-2.74424464e-01],\n",
       "        [ 3.38678830e-03],\n",
       "        [ 3.19314837e-01],\n",
       "        [-2.15752557e-01],\n",
       "        [ 1.30123021e-02],\n",
       "        [ 5.31069338e-02],\n",
       "        [ 4.43533212e-02],\n",
       "        [ 1.36949167e-01],\n",
       "        [-1.53712034e-01],\n",
       "        [ 1.03278033e-01],\n",
       "        [-3.72387975e-01],\n",
       "        [ 2.92554628e-02],\n",
       "        [ 5.63102961e-02],\n",
       "        [ 1.44786388e-01],\n",
       "        [-1.14645012e-01],\n",
       "        [-3.05489264e-02],\n",
       "        [-2.50927322e-02],\n",
       "        [ 1.26799464e-01],\n",
       "        [ 1.84327111e-01],\n",
       "        [ 9.43243355e-02],\n",
       "        [ 1.28594548e-01],\n",
       "        [ 3.15118469e-02],\n",
       "        [ 1.28517509e-01],\n",
       "        [ 8.62749144e-02],\n",
       "        [ 4.07484658e-02],\n",
       "        [-8.72958079e-02],\n",
       "        [-8.88138860e-02],\n",
       "        [-2.22239956e-01],\n",
       "        [ 3.77182662e-01],\n",
       "        [ 1.26673609e-01],\n",
       "        [ 8.31423700e-02],\n",
       "        [-5.90712018e-02],\n",
       "        [ 2.60595791e-02],\n",
       "        [ 3.37953381e-02],\n",
       "        [ 1.71938121e-01],\n",
       "        [ 9.89526585e-02],\n",
       "        [-1.54977813e-01],\n",
       "        [ 1.80509791e-01],\n",
       "        [ 1.76542476e-01],\n",
       "        [ 9.76236090e-02],\n",
       "        [-4.52994853e-02],\n",
       "        [ 5.06786942e-01],\n",
       "        [-1.79125294e-01],\n",
       "        [ 2.62036640e-02],\n",
       "        [ 3.68260026e-01],\n",
       "        [ 2.13421226e-01],\n",
       "        [ 6.70737700e-06],\n",
       "        [ 1.23248033e-01],\n",
       "        [-1.60888687e-01],\n",
       "        [ 3.96272019e-02]], dtype=float32),\n",
       " array([0.5885271], dtype=float32)]"
      ]
     },
     "execution_count": 4,
     "metadata": {},
     "output_type": "execute_result"
    }
   ],
   "source": [
    "model.get_weights()"
   ]
  },
  {
   "cell_type": "code",
   "execution_count": 5,
   "metadata": {},
   "outputs": [],
   "source": [
    "# Step 2: Helper Functions\n",
    "# Function to decode reviews\n",
    "\n",
    "def decode_review(encoded_review):\n",
    "    return ' '.join([reverse_word_index.get(i - 3, '?') for i in encoded_review])\n",
    "\n",
    "# Function to predict sentiment of reviews\n",
    "\n",
    "def preprocess_text(text):\n",
    "    words = text.lower().split()\n",
    "    encoded_review = [word_index.get(word, 2) + 3 for word in words]\n",
    "    padded_review = sequence.pad_sequences([encoded_review], maxlen=500)\n",
    "    return padded_review"
   ]
  },
  {
   "cell_type": "code",
   "execution_count": 6,
   "metadata": {},
   "outputs": [],
   "source": [
    "#  Predict Sentiment of Reviews\n",
    "\n",
    "def predict_sentiment(review):\n",
    "    preprocessed_input=preprocess_text(review)\n",
    "\n",
    "    prediction=model.predict(preprocessed_input)\n",
    "\n",
    "    sentiment = 'Positive' if prediction[0][0] > 0.5 else 'Negative'\n",
    "    \n",
    "    return sentiment, prediction[0][0]"
   ]
  },
  {
   "cell_type": "code",
   "execution_count": 7,
   "metadata": {},
   "outputs": [
    {
     "name": "stdout",
     "output_type": "stream",
     "text": [
      "\u001b[1m1/1\u001b[0m \u001b[32m━━━━━━━━━━━━━━━━━━━━\u001b[0m\u001b[37m\u001b[0m \u001b[1m0s\u001b[0m 248ms/step\n",
      "Review: This movie was fantastic! The acting was great and the plot was thrilling.\n",
      "Sentiment: Positive\n",
      "Prediction Score: 0.7393195033073425\n"
     ]
    }
   ],
   "source": [
    "# User Input and Prediction\n",
    "# Example review for prediction\n",
    "\n",
    "example_review = \"This movie was fantastic! The acting was great and the plot was thrilling.\"\n",
    "\n",
    "sentiment,score=predict_sentiment(example_review)\n",
    "\n",
    "print(f'Review: {example_review}')\n",
    "print(f'Sentiment: {sentiment}')\n",
    "print(f'Prediction Score: {score}')"
   ]
  },
  {
   "cell_type": "code",
   "execution_count": 8,
   "metadata": {},
   "outputs": [
    {
     "name": "stdout",
     "output_type": "stream",
     "text": [
      "\u001b[1m1/1\u001b[0m \u001b[32m━━━━━━━━━━━━━━━━━━━━\u001b[0m\u001b[37m\u001b[0m \u001b[1m0s\u001b[0m 58ms/step\n",
      "Review: The red blood flowing from his ear is now green/yellow. Despite these cuts, the edited version was later reclassified as MA15+. \n",
      "Sentiment: Positive\n",
      "Prediction Score: 0.7871381044387817\n"
     ]
    }
   ],
   "source": [
    "# User Input and Prediction\n",
    "# Example review for prediction\n",
    "\n",
    "example_review = \"The red blood flowing from his ear is now green/yellow. Despite these cuts, the edited version was later reclassified as MA15+. \"\n",
    "\n",
    "sentiment,score=predict_sentiment(example_review)\n",
    "\n",
    "print(f'Review: {example_review}')\n",
    "print(f'Sentiment: {sentiment}')\n",
    "print(f'Prediction Score: {score}')"
   ]
  },
  {
   "cell_type": "code",
   "execution_count": null,
   "metadata": {},
   "outputs": [],
   "source": []
  }
 ],
 "metadata": {
  "kernelspec": {
   "display_name": "llms",
   "language": "python",
   "name": "python3"
  },
  "language_info": {
   "codemirror_mode": {
    "name": "ipython",
    "version": 3
   },
   "file_extension": ".py",
   "mimetype": "text/x-python",
   "name": "python",
   "nbconvert_exporter": "python",
   "pygments_lexer": "ipython3",
   "version": "3.11.11"
  }
 },
 "nbformat": 4,
 "nbformat_minor": 2
}
